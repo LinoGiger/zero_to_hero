{
 "cells": [
  {
   "cell_type": "code",
   "execution_count": 6,
   "metadata": {},
   "outputs": [],
   "source": [
    "import torch\n",
    "import matplotlib.pyplot as plt\n",
    "import numpy as np\n",
    "import torch.nn.functional as F\n",
    "from tqdm import tqdm\n",
    "import random"
   ]
  },
  {
   "cell_type": "code",
   "execution_count": 3,
   "metadata": {},
   "outputs": [],
   "source": [
    "words = list(open('names.txt', 'r').read().splitlines())"
   ]
  },
  {
   "cell_type": "code",
   "execution_count": 4,
   "metadata": {},
   "outputs": [],
   "source": [
    "letters = sorted(list(set(''.join(words))))\n",
    "ltoi = {l: i+1 for i, l in enumerate(letters)}\n",
    "ltoi[\".\"] = 0\n",
    "itol = {i:l for l, i in ltoi.items()}"
   ]
  },
  {
   "cell_type": "code",
   "execution_count": 90,
   "metadata": {},
   "outputs": [
    {
     "data": {
      "text/plain": [
       "196113"
      ]
     },
     "execution_count": 90,
     "metadata": {},
     "output_type": "execute_result"
    }
   ],
   "source": [
    "block_size = 3\n",
    "dim_size = 2\n",
    "\n",
    "X = []\n",
    "Y = []\n",
    "for w in words:\n",
    "    context = [0]*block_size\n",
    "    for char in w:\n",
    "        ix = ltoi[char]\n",
    "        X.append(context)\n",
    "        Y.append(ltoi[char])\n",
    "        context = context[1:] + [ltoi[char]]\n",
    "X = torch.tensor(X)\n",
    "Y = torch.tensor(Y)\n",
    "len(Y)"
   ]
  },
  {
   "cell_type": "code",
   "execution_count": 91,
   "metadata": {},
   "outputs": [
    {
     "data": {
      "text/plain": [
       "(torch.Size([196113, 3]), torch.Size([196113]))"
      ]
     },
     "execution_count": 91,
     "metadata": {},
     "output_type": "execute_result"
    }
   ],
   "source": [
    "X.shape, Y.shape"
   ]
  },
  {
   "cell_type": "code",
   "execution_count": 108,
   "metadata": {},
   "outputs": [
    {
     "name": "stdout",
     "output_type": "stream",
     "text": [
      "amout of paramas:  3481\n"
     ]
    }
   ],
   "source": [
    "C = torch.randn(27,dim_size)\n",
    "W = torch.randn(dim_size * block_size, 100)\n",
    "b = torch.randn(100)\n",
    "W2 = torch.randn(100, 27)\n",
    "b2 = torch.randn(27)\n",
    "params = [C, W, b, W2, b2]\n",
    "print(\"amout of paramas: \", sum(p.numel() for p in parmas))\n",
    "for p in params:\n",
    "    p.requires_grad = True"
   ]
  },
  {
   "cell_type": "code",
   "execution_count": 109,
   "metadata": {},
   "outputs": [],
   "source": [
    "stepi = []\n",
    "lossi = []\n",
    "count = 0"
   ]
  },
  {
   "cell_type": "code",
   "execution_count": 114,
   "metadata": {},
   "outputs": [
    {
     "name": "stdout",
     "output_type": "stream",
     "text": [
      "2.8190181255340576\n"
     ]
    }
   ],
   "source": [
    "for i in range(10_000):\n",
    "    ix = torch.randint(0, X.shape[0], (32,))\n",
    "    emb = C[X[ix]]\n",
    "    h = torch.tanh(emb.view(-1, 6) @ W + b)\n",
    "    logits = h @ W2 + b2\n",
    "    loss = F.cross_entropy(logits, Y[ix])\n",
    "    for p in params:\n",
    "        p.grad = None\n",
    "    loss.backward()\n",
    "    for p in params:\n",
    "        p.data -= 0.01 * p.grad\n",
    "    stepi.append(count)\n",
    "    count += 1\n",
    "    lossi.append(loss.item())\n",
    "print(loss.item())\n"
   ]
  },
  {
   "cell_type": "code",
   "execution_count": 115,
   "metadata": {},
   "outputs": [
    {
     "data": {
      "text/plain": [
       "[<matplotlib.lines.Line2D at 0x18e3cdef6a0>]"
      ]
     },
     "execution_count": 115,
     "metadata": {},
     "output_type": "execute_result"
    },
    {
     "data": {
      "image/png": "[encoded data removed]",
      "text/plain": [
       "<Figure size 640x480 with 1 Axes>"
      ]
     },
     "metadata": {},
     "output_type": "display_data"
    }
   ],
   "source": [
    "plt.plot(stepi, lossi)"
   ]
  },
  {
   "attachments": {},
   "cell_type": "markdown",
   "metadata": {},
   "source": [
    "### everything together"
   ]
  },
  {
   "cell_type": "code",
   "execution_count": 119,
   "metadata": {},
   "outputs": [],
   "source": []
  },
  {
   "cell_type": "code",
   "execution_count": null,
   "metadata": {},
   "outputs": [],
   "source": [
    "words = list(open('names.txt', 'r').read().splitlines())\n",
    "letters = sorted(list(set(''.join(words))))\n",
    "ltoi = {l: i+1 for i, l in enumerate(letters)}\n",
    "ltoi[\".\"] = 0\n",
    "itol = {i:l for l, i in ltoi.items()}"
   ]
  },
  {
   "cell_type": "code",
   "execution_count": 168,
   "metadata": {},
   "outputs": [],
   "source": []
  },
  {
   "cell_type": "code",
   "execution_count": 45,
   "metadata": {},
   "outputs": [
    {
     "name": "stderr",
     "output_type": "stream",
     "text": [
      "100%|██████████| 500000/500000 [05:29<00:00, 1517.13it/s]\n"
     ]
    },
    {
     "name": "stdout",
     "output_type": "stream",
     "text": [
      "loss train = 2.006357431411743, loss val = 2.1145544052124023\n"
     ]
    }
   ],
   "source": [
    "\n",
    "initialize = True\n",
    "if initialize:\n",
    "    loop = []\n",
    "    loss_decay = []\n",
    "    lossltr = []\n",
    "    losslval = []\n",
    "def build_dataset(words, block_size=3):\n",
    "    X = []\n",
    "    Y = []\n",
    "    for w in words:\n",
    "        context = [0]*block_size\n",
    "        for char in w + \".\":\n",
    "            X.append(context)\n",
    "            Y.append(ltoi[char])\n",
    "            context = context[1:] + [ltoi[char]]\n",
    "    X = torch.tensor(X)\n",
    "    Y = torch.tensor(Y)\n",
    "    return X, Y\n",
    "\n",
    "for k in range(1):\n",
    "    batch_size = 32\n",
    "    if initialize:\n",
    "        #hyper parameters:\n",
    "        block_size = 3\n",
    "        dim_size = 10\n",
    "        middle_layer = 300\n",
    "        loop.append(k)\n",
    "\n",
    "        random.shuffle(words)\n",
    "        n1 = int(len(words)*0.8)\n",
    "        n2 = int(len(words)*0.9)\n",
    "        Xtr, Ytr = build_dataset(words[:n1], block_size)\n",
    "        Xval, Yval = build_dataset(words[n1:n2], block_size)\n",
    "        Xtest, Ytest = build_dataset(words[n2:], block_size)\n",
    "\n",
    "   \n",
    "        C = torch.randn(27,dim_size)\n",
    "        W = torch.randn(dim_size * block_size, middle_layer)\n",
    "        b = torch.randn(middle_layer)\n",
    "        W2 = torch.randn(middle_layer, 27)\n",
    "        b2 = torch.randn(27)\n",
    "        params = [C, W, b, W2, b2]\n",
    "        for p in params:\n",
    "            p.requires_grad = True\n",
    "    reps = int(500_000)\n",
    "    current_loss = []\n",
    "    for i in tqdm(range(reps)):\n",
    "        ix = torch.randint(0, Xtr.shape[0], (batch_size,))\n",
    "        emb = C[Xtr[ix]]\n",
    "        h = torch.tanh(emb.view(-1, block_size*dim_size) @ W + b)\n",
    "        logits = h @ W2 + b2\n",
    "        loss = F.cross_entropy(logits, Ytr[ix])\n",
    "        for p in params:\n",
    "            p.grad = None\n",
    "        loss.backward()\n",
    "        step_size = 0.1 if i < 0.7*reps else 0.01 if i < 0.9*reps else 0.001\n",
    "        for p in params:\n",
    "            p.data -= step_size * p.grad\n",
    "        current_loss.append([i, loss.item()])\n",
    "    loss_decay.append(current_loss)\n",
    "    #calc loss\n",
    "    emb = C[Xtr]\n",
    "    h = torch.tanh(emb.view(-1, block_size * dim_size) @ W + b)\n",
    "    logits = h @ W2 + b2\n",
    "    loss_tr = F.cross_entropy(logits, Ytr)\n",
    "    lossltr.append(loss_tr.item())\n",
    "\n",
    "    emb = C[Xval]\n",
    "    h = torch.tanh(emb.view(-1, block_size * dim_size) @ W + b)\n",
    "    logits = h @ W2 + b2\n",
    "    loss_val = F.cross_entropy(logits, Yval)\n",
    "    losslval.append(loss_val.item())\n",
    "    print(f\"loss train = {loss_tr}, loss val = {loss_val}\")"
   ]
  },
  {
   "cell_type": "code",
   "execution_count": 46,
   "metadata": {},
   "outputs": [],
   "source": [
    "xs = [x[0] for x in loss_decay[0]]\n",
    "ys = [y[1] for y in loss_decay[0]]"
   ]
  },
  {
   "cell_type": "code",
   "execution_count": 47,
   "metadata": {},
   "outputs": [
    {
     "data": {
      "text/plain": [
       "[<matplotlib.lines.Line2D at 0x1c3e47d9390>]"
      ]
     },
     "execution_count": 47,
     "metadata": {},
     "output_type": "execute_result"
    },
    {
     "data": {
      "image/png": "[encoded data removed]",
      "text/plain": [
       "<Figure size 640x480 with 1 Axes>"
      ]
     },
     "metadata": {},
     "output_type": "display_data"
    }
   ],
   "source": [
    "plt.plot(xs, ys)"
   ]
  },
  {
   "cell_type": "code",
   "execution_count": 48,
   "metadata": {},
   "outputs": [
    {
     "name": "stdout",
     "output_type": "stream",
     "text": [
      "1.668571949005127\n"
     ]
    }
   ],
   "source": [
    "block_size = 3\n",
    "dim_size = 10\n",
    "\n",
    "emb = C[Xtest]\n",
    "h = torch.tanh(emb.view(-1, block_size * dim_size) @ W + b)\n",
    "logits = h @ W2 + b2\n",
    "loss_tr = F.cross_entropy(logits, Ytest)\n",
    "\n",
    "print(loss.item())"
   ]
  },
  {
   "cell_type": "code",
   "execution_count": 49,
   "metadata": {},
   "outputs": [
    {
     "name": "stdout",
     "output_type": "stream",
     "text": [
      "torch.Size([1, 30])\n",
      "torch.Size([30, 300])\n"
     ]
    },
    {
     "data": {
      "text/plain": [
       "tensor([[0.0001, 0.1319, 0.0383, 0.0474, 0.0485, 0.0438, 0.0120, 0.0208, 0.0254,\n",
       "         0.0177, 0.0852, 0.0856, 0.0517, 0.0863, 0.0358, 0.0134, 0.0155, 0.0027,\n",
       "         0.0617, 0.0620, 0.0421, 0.0023, 0.0131, 0.0082, 0.0044, 0.0162, 0.0279]],\n",
       "       grad_fn=<SoftmaxBackward0>)"
      ]
     },
     "execution_count": 49,
     "metadata": {},
     "output_type": "execute_result"
    }
   ],
   "source": [
    "emb = C[torch.tensor([0,0,0])]\n",
    "print(emb.view(-1, block_size * dim_size).shape)\n",
    "print(W.shape)\n",
    "h = torch.tanh(emb.view(-1, block_size * dim_size) @ W + b)\n",
    "logits = h @ W2 + b2\n",
    "F.softmax(logits, dim=1)"
   ]
  },
  {
   "cell_type": "code",
   "execution_count": 52,
   "metadata": {},
   "outputs": [
    {
     "name": "stdout",
     "output_type": "stream",
     "text": [
      "ana.\n",
      "alor.\n",
      "alaiyaheadelyn.\n",
      "leeshangelili.\n",
      "jahba.\n",
      "phyle.\n",
      "lai.\n",
      "tre.\n",
      "ter.\n",
      "kaiah.\n"
     ]
    }
   ],
   "source": [
    "for i in range(10):\n",
    "    out = []\n",
    "    context = [0] * 3 \n",
    "    while True:\n",
    "        emb = C[torch.tensor(context)]\n",
    "        h = torch.tanh(emb.view(-1, block_size * dim_size) @ W + b)\n",
    "        logits = h @ W2 + b2\n",
    "        probs = F.softmax(logits, dim=1)\n",
    "        ix = torch.multinomial(probs, num_samples=1).item()\n",
    "        out.append(ix)\n",
    "        context = context[1:] + [ix]\n",
    "        if not ix:\n",
    "            break\n",
    "\n",
    "    print(\"\".join(itol[i] for i in out))"
   ]
  },
  {
   "cell_type": "code",
   "execution_count": 51,
   "metadata": {},
   "outputs": [
    {
     "name": "stdout",
     "output_type": "stream",
     "text": [
      "alina.\n",
      "evalesserian.\n",
      "racii.\n",
      "luis.\n",
      "amichet.\n",
      "keskott.\n",
      "jayce.\n",
      "ruda.\n",
      "malie.\n",
      "breckressii.\n",
      "nuinsed.\n",
      "ven.\n",
      "elilanna.\n",
      "adesey.\n",
      "sunne.\n",
      "kiplesa.\n",
      "marionnessi.\n",
      "ily.\n",
      "rhamoneyton.\n",
      "rhenroy.\n"
     ]
    }
   ],
   "source": [
    "for _ in range(20):\n",
    "    \n",
    "    out = []\n",
    "    context = [0] * block_size # initialize with all ...\n",
    "    while True:\n",
    "      emb = C[torch.tensor([context])] # (1,block_size,d)\n",
    "      h = torch.tanh(emb.view(1, -1) @ W + b)\n",
    "      logits = h @ W2 + b2\n",
    "      probs = F.softmax(logits, dim=1)\n",
    "      ix = torch.multinomial(probs, num_samples=1).item()\n",
    "      context = context[1:] + [ix]\n",
    "      out.append(ix)\n",
    "      if ix == 0:\n",
    "        break\n",
    "    \n",
    "    print(''.join(itol[i] for i in out))"
   ]
  },
  {
   "cell_type": "code",
   "execution_count": null,
   "metadata": {},
   "outputs": [],
   "source": []
  }
 ],
 "metadata": {
  "kernelspec": {
   "display_name": "Python 3",
   "language": "python",
   "name": "python3"
  },
  "language_info": {
   "codemirror_mode": {
    "name": "ipython",
    "version": 3
   },
   "file_extension": ".py",
   "mimetype": "text/x-python",
   "name": "python",
   "nbconvert_exporter": "python",
   "pygments_lexer": "ipython3",
   "version": "3.10.10"
  },
  "orig_nbformat": 4,
  "vscode": {
   "interpreter": {
    "hash": "f55850e4f3739bfdf174bee69e3bf40acfd4962cd5e3dc3f8c72e637ad5a7e33"
   }
  }
 },
 "nbformat": 4,
 "nbformat_minor": 2
}
