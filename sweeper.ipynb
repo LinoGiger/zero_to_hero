{
 "cells": [
  {
   "cell_type": "code",
   "execution_count": 1,
   "metadata": {},
   "outputs": [],
   "source": [
    "from glob import glob\n",
    "from PyPDF2 import PdfMerger"
   ]
  },
  {
   "cell_type": "code",
   "execution_count": 3,
   "metadata": {},
   "outputs": [],
   "source": [
    "folders = glob(\"./I.BA_RL_MM.H2201/*\")\n",
    "files = []\n",
    "for folder in folders:\n",
    "    files += glob(folder + \"/*.pdf\")\n",
    "merger = PdfMerger()\n",
    "for pdf in files:\n",
    "    merger.append(pdf)\n",
    "merger.write(\"RL.pdf\")\n",
    "merger.close()"
   ]
  },
  {
   "cell_type": "code",
   "execution_count": null,
   "metadata": {},
   "outputs": [],
   "source": []
  }
 ],
 "metadata": {
  "kernelspec": {
   "display_name": "Python 3",
   "language": "python",
   "name": "python3"
  },
  "language_info": {
   "codemirror_mode": {
    "name": "ipython",
    "version": 3
   },
   "file_extension": ".py",
   "mimetype": "text/x-python",
   "name": "python",
   "nbconvert_exporter": "python",
   "pygments_lexer": "ipython3",
   "version": "3.11.0"
  },
  "orig_nbformat": 4,
  "vscode": {
   "interpreter": {
    "hash": "6d2082888ddd3c2e1b39de45d7c7ac544eb9b5f8c209df9d2eedb1631a6b2a0d"
   }
  }
 },
 "nbformat": 4,
 "nbformat_minor": 2
}
